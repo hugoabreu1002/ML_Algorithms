{
 "metadata": {
  "language_info": {
   "codemirror_mode": {
    "name": "ipython",
    "version": 3
   },
   "file_extension": ".py",
   "mimetype": "text/x-python",
   "name": "python",
   "nbconvert_exporter": "python",
   "pygments_lexer": "ipython3",
   "version": "3.8.6-final"
  },
  "orig_nbformat": 2,
  "kernelspec": {
   "name": "python3",
   "display_name": "Python 3.8.6 64-bit",
   "metadata": {
    "interpreter": {
     "hash": "1baa965d5efe3ac65b79dfc60c0d706280b1da80fedb7760faf2759126c4f253"
    }
   }
  }
 },
 "nbformat": 4,
 "nbformat_minor": 2,
 "cells": [
  {
   "cell_type": "code",
   "execution_count": 1,
   "metadata": {},
   "outputs": [],
   "source": [
    "import numpy as np\n",
    "from sklearn.linear_model import LinearRegression\n",
    "from sklearn.ensemble import RandomForestRegressor\n",
    "from sklearn.ensemble import VotingRegressor\n",
    "from sklearn.model_selection import train_test_split\n",
    "from sklearn.datasets import make_blobs\n",
    "import os,sys,inspect\n",
    "currentdir = os.path.dirname(os.path.abspath(inspect.getfile(inspect.currentframe())))\n",
    "parentdir = os.path.dirname(currentdir)\n",
    "granparentdir = os.path.dirname(os.path.dirname(currentdir))\n",
    "sys.path.insert(0,parentdir)\n",
    "sys.path.insert(0,granparentdir)\n",
    "\n",
    "from EnsembleSearch import EnsembleSearch"
   ]
  },
  {
   "cell_type": "code",
   "execution_count": 2,
   "metadata": {},
   "outputs": [
    {
     "output_type": "stream",
     "name": "stderr",
     "text": [
      "100%|██████████| 3/3 [00:03<00:00,  1.04s/it]\n"
     ]
    }
   ],
   "source": [
    "X, y = make_blobs(n_samples=50, n_features=2, centers=3,random_state=0)\n",
    "\n",
    "X_train, X_test, y_train, y_test = train_test_split(X, y, test_size=0.2, random_state=42)\n",
    "\n",
    "ensemble = EnsembleSearch(X_train, y_train, X_test, y_test, epochs=3, size_pop=5, prob_mut=0.8, alpha_stop=1e-4, verbose=True).search_best()"
   ]
  },
  {
   "cell_type": "code",
   "execution_count": 3,
   "metadata": {},
   "outputs": [
    {
     "output_type": "execute_result",
     "data": {
      "text/plain": [
       "0.20004822663872615"
      ]
     },
     "metadata": {},
     "execution_count": 3
    }
   ],
   "source": [
    "from sklearn.metrics import mean_absolute_error as mae\n",
    "\n",
    "mae(ensemble._best_of_all.predict(X_test), y_test)"
   ]
  },
  {
   "cell_type": "code",
   "execution_count": 8,
   "metadata": {},
   "outputs": [
    {
     "output_type": "execute_result",
     "data": {
      "text/plain": [
       "VotingRegressor(estimators=[('RFR',\n",
       "                             RandomForestRegressor(max_depth=14,\n",
       "                                                   min_samples_leaf=9,\n",
       "                                                   min_samples_split=3,\n",
       "                                                   min_weight_fraction_leaf=0.008173772370356991,\n",
       "                                                   n_estimators=86)),\n",
       "                            ('SVR',\n",
       "                             SVR(C=1000, epsilon=0.14625040784062066,\n",
       "                                 gamma='auto', kernel='linear')),\n",
       "                            ('ADA', AdaBoostRegressor(n_estimators=13)),\n",
       "                            ('BAG',\n",
       "                             BaggingRegressor(max_samples=13, n_estimators=14)),...\n",
       "                             GradientBoostingRegressor(max_depth=16,\n",
       "                                                       min_samples_leaf=4,\n",
       "                                                       min_weight_fraction_leaf=0.23896437914038193,\n",
       "                                                       n_estimators=19)),\n",
       "                            ('RAN', RANSACRegressor()),\n",
       "                            ('PAR',\n",
       "                             PassiveAggressiveRegressor(C=3,\n",
       "                                                        early_stopping=True,\n",
       "                                                        n_iter_no_change=9)),\n",
       "                            ('SGD',\n",
       "                             SGDRegressor(n_iter_no_change=1, penalty='l1'))],\n",
       "                weights=array([0.23330002, 0.27778494, 0.83397468, 0.45079333, 1.18385039,\n",
       "       1.18533079, 0.25763482, 1.17800982]))"
      ]
     },
     "metadata": {},
     "execution_count": 8
    }
   ],
   "source": [
    "ensemble._best_of_all"
   ]
  }
 ]
}